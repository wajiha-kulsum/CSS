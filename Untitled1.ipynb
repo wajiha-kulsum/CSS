{
  "nbformat": 4,
  "nbformat_minor": 0,
  "metadata": {
    "colab": {
      "provenance": [],
      "authorship_tag": "ABX9TyMCp+UlMtlCQ1xRJItrT4G0",
      "include_colab_link": true
    },
    "kernelspec": {
      "name": "python3",
      "display_name": "Python 3"
    },
    "language_info": {
      "name": "python"
    }
  },
  "cells": [
    {
      "cell_type": "markdown",
      "metadata": {
        "id": "view-in-github",
        "colab_type": "text"
      },
      "source": [
        "<a href=\"https://colab.research.google.com/github/wajiha-kulsum/CSS/blob/main/Untitled1.ipynb\" target=\"_parent\"><img src=\"https://colab.research.google.com/assets/colab-badge.svg\" alt=\"Open In Colab\"/></a>"
      ]
    },
    {
      "cell_type": "code",
      "execution_count": null,
      "metadata": {
        "id": "fuTF0NJgWa9f"
      },
      "outputs": [],
      "source": [
        "#caeaser cipher text encryption\n",
        "def encrypt(text, shift):\n",
        "  encrypted_text=\"\"\n",
        "  for char in text:\n",
        "    if char.isalpha():\n",
        "      shift_base= ord('A') if char.isupper() else ord('a')\n",
        "      encrypted_text +=  chr((ord(char) - shift_base + shift )%26 + shift_base )\n",
        "    else:\n",
        "      encrypted_tex += char\n",
        "  return encrypted_text\n",
        "\n",
        "plain_text = input(\"enter the plain text to be encrypted: \")\n",
        "shift_key = int(input(\"enter the shift key (any positive integer):\"))\n",
        "\n",
        "\n",
        "#encryot the plain text\n",
        "cipher_text = encrypt(plain_text, shift_key)\n",
        "\n",
        "#display the encypted text\n",
        "print(\"Encrypted Text:\", cipher_text)\n",
        "\n",
        "\n"
      ]
    }
  ]
}